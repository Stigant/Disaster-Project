{
 "cells": [
  {
   "cell_type": "code",
   "execution_count": 107,
   "metadata": {},
   "outputs": [
    {
     "name": "stderr",
     "output_type": "stream",
     "text": [
      "[nltk_data] Downloading package punkt to\n",
      "[nltk_data]     C:\\Users\\Liam\\AppData\\Roaming\\nltk_data...\n",
      "[nltk_data]   Package punkt is already up-to-date!\n",
      "[nltk_data] Downloading package stopwords to\n",
      "[nltk_data]     C:\\Users\\Liam\\AppData\\Roaming\\nltk_data...\n",
      "[nltk_data]   Package stopwords is already up-to-date!\n",
      "[nltk_data] Downloading package wordnet to\n",
      "[nltk_data]     C:\\Users\\Liam\\AppData\\Roaming\\nltk_data...\n",
      "[nltk_data]   Package wordnet is already up-to-date!\n"
     ]
    }
   ],
   "source": [
    "#Import\n",
    "\n",
    "import pandas as pd\n",
    "import numpy as np\n",
    "import seaborn as sns\n",
    "from sqlalchemy import create_engine\n",
    "import re\n",
    "import nltk\n",
    "from nltk.corpus import stopwords\n",
    "from nltk.stem.wordnet import WordNetLemmatizer\n",
    "from nltk.tokenize import word_tokenize\n",
    "\n",
    "nltk.download('punkt')\n",
    "nltk.download('stopwords')\n",
    "nltk.download('wordnet')\n",
    "\n",
    "\n",
    "from sklearn.pipeline import Pipeline, FeatureUnion\n",
    "from sklearn.metrics import confusion_matrix, classification_report\n",
    "from sklearn.model_selection import train_test_split, GridSearchCV\n",
    "from sklearn.ensemble import RandomForestClassifier\n",
    "from sklearn.linear_model import SGDClassifier, LogisticRegression\n",
    "from sklearn.feature_extraction.text import CountVectorizer, TfidfTransformer\n",
    "from sklearn.base import BaseEstimator, TransformerMixin, clone\n",
    "from sklearn.preprocessing import FunctionTransformer\n",
    "from sklearn.multioutput import MultiOutputClassifier"
   ]
  },
  {
   "cell_type": "code",
   "execution_count": 100,
   "metadata": {},
   "outputs": [],
   "source": [
    "#Load\n",
    "database_filepath = \"../data/Disaster-Messages-Categories.db\"\n",
    "engine = create_engine('sqlite:///'+database_filepath)\n",
    "df=pd.read_sql_table('DisasterTable',engine).set_index('id')"
   ]
  },
  {
   "cell_type": "code",
   "execution_count": 50,
   "metadata": {},
   "outputs": [],
   "source": [
    "X=df[['message', 'genre_social', 'genre_news']].copy()\n",
    "y=df.drop(['message', 'genre_social', 'genre_news', 'original'], axis=1).astype(int)"
   ]
  },
  {
   "cell_type": "code",
   "execution_count": 51,
   "metadata": {},
   "outputs": [],
   "source": [
    "stopWords=stopwords.words('english')\n",
    "lemmatizer = WordNetLemmatizer()"
   ]
  },
  {
   "cell_type": "code",
   "execution_count": 52,
   "metadata": {},
   "outputs": [],
   "source": [
    "def tokenize(text):\n",
    "    \"\"\"Clean and tokenize text, then lemmatize\"\"\"    \n",
    "    text = re.sub(r\"[^a-zA-Z0-9]\", \" \", text.lower())\n",
    "    text.lower()\n",
    "    tokens=word_tokenize(text)\n",
    "    tokens = [lemmatizer.lemmatize(word) for word in tokens if word not in stopWords]\n",
    "    return tokens"
   ]
  },
  {
   "cell_type": "code",
   "execution_count": 53,
   "metadata": {},
   "outputs": [],
   "source": [
    "#Pipeline\n",
    "pipeline = Pipeline([\n",
    "        ('features',FeatureUnion([\n",
    "            ('text_pipeline', Pipeline([\n",
    "                ('keep_message', FunctionTransformer(lambda X: X.message)),\n",
    "                ('vect', CountVectorizer(tokenizer=tokenize)),\n",
    "                ('tfidf', TfidfTransformer())\n",
    "            ])),\n",
    "            ('keep_others', FunctionTransformer(lambda X: X[['genre_social', 'genre_news']]))\n",
    "        ])),\n",
    "        ('SGDC', SGDClassifier(random_state=42, n_jobs=-1, early_stopping=True))\n",
    "    ])\n",
    "\n"
   ]
  },
  {
   "cell_type": "code",
   "execution_count": 54,
   "metadata": {},
   "outputs": [],
   "source": [
    "X_train, X_test, y_train, y_test = train_test_split(X, y.related)"
   ]
  },
  {
   "cell_type": "code",
   "execution_count": 55,
   "metadata": {},
   "outputs": [],
   "source": [
    "pipeline.fit(X_train,y_train)\n",
    "y_pred=pipeline.predict(X_test)"
   ]
  },
  {
   "cell_type": "code",
   "execution_count": 9,
   "metadata": {},
   "outputs": [
    {
     "data": {
      "text/plain": [
       "<AxesSubplot:>"
      ]
     },
     "execution_count": 9,
     "metadata": {},
     "output_type": "execute_result"
    },
    {
     "data": {
      "image/png": "[encoded data removed]",
      "text/plain": [
       "<Figure size 432x288 with 2 Axes>"
      ]
     },
     "metadata": {
      "needs_background": "light"
     },
     "output_type": "display_data"
    }
   ],
   "source": [
    "cf_matrix=confusion_matrix(y_pred,y_test, labels=[0,1])\n",
    "sns.heatmap(cf_matrix/np.sum(cf_matrix), annot=True, \n",
    "            fmt='.2%', cmap='Blues')"
   ]
  },
  {
   "cell_type": "code",
   "execution_count": 10,
   "metadata": {},
   "outputs": [
    {
     "name": "stdout",
     "output_type": "stream",
     "text": [
      "              precision    recall  f1-score   support\n",
      "\n",
      " not related       0.72      0.48      0.58      1492\n",
      "     related       0.86      0.95      0.90      5052\n",
      "\n",
      "    accuracy                           0.84      6544\n",
      "   macro avg       0.79      0.71      0.74      6544\n",
      "weighted avg       0.83      0.84      0.83      6544\n",
      "\n"
     ]
    }
   ],
   "source": [
    "print(classification_report(y_test, y_pred, target_names=['not related', 'related']))"
   ]
  },
  {
   "cell_type": "code",
   "execution_count": 11,
   "metadata": {
    "scrolled": true
   },
   "outputs": [
    {
     "data": {
      "text/plain": [
       "<sklearn.metrics._plot.precision_recall_curve.PrecisionRecallDisplay at 0x1fb29787790>"
      ]
     },
     "execution_count": 11,
     "metadata": {},
     "output_type": "execute_result"
    },
    {
     "data": {
      "image/png": "[encoded data removed]",
      "text/plain": [
       "<Figure size 432x288 with 1 Axes>"
      ]
     },
     "metadata": {
      "needs_background": "light"
     },
     "output_type": "display_data"
    }
   ],
   "source": [
    "from sklearn.metrics import precision_recall_curve\n",
    "from sklearn.metrics import plot_precision_recall_curve\n",
    "y_score = pipeline.decision_function(X_test)\n",
    "plot_precision_recall_curve(pipeline, X_test, y_test)\n"
   ]
  },
  {
   "cell_type": "code",
   "execution_count": 113,
   "metadata": {},
   "outputs": [],
   "source": [
    "X=X[y.related==1]\n",
    "y=y[y.related==1].drop('related',axis=1)"
   ]
  },
  {
   "cell_type": "code",
   "execution_count": 13,
   "metadata": {},
   "outputs": [],
   "source": [
    "X_train, X_test, y_train, y_test = train_test_split(X, y)"
   ]
  },
  {
   "cell_type": "code",
   "execution_count": 14,
   "metadata": {},
   "outputs": [],
   "source": [
    "from sklearn.linear_model import LogisticRegression"
   ]
  },
  {
   "cell_type": "code",
   "execution_count": 15,
   "metadata": {},
   "outputs": [],
   "source": [
    "pipeline = Pipeline([\n",
    "        ('features',FeatureUnion([\n",
    "            ('text_pipeline', Pipeline([\n",
    "                ('keep_message', FunctionTransformer(lambda X: X.message)),\n",
    "                ('vect', CountVectorizer(tokenizer=tokenize)),\n",
    "                ('tfidf', TfidfTransformer())\n",
    "            ])),\n",
    "            ('keep_others', FunctionTransformer(lambda X: X[['genre_social', 'genre_news']]))\n",
    "        ])),\n",
    "        ('classifier', LogisticRegression(random_state=42, n_jobs=-1))\n",
    "    ])"
   ]
  },
  {
   "cell_type": "code",
   "execution_count": 16,
   "metadata": {},
   "outputs": [
    {
     "name": "stdout",
     "output_type": "stream",
     "text": [
      "              precision    recall  f1-score   support\n",
      "\n",
      " not request       0.91      0.95      0.93      3916\n",
      "     request       0.78      0.66      0.71      1101\n",
      "\n",
      "    accuracy                           0.88      5017\n",
      "   macro avg       0.85      0.80      0.82      5017\n",
      "weighted avg       0.88      0.88      0.88      5017\n",
      "\n"
     ]
    },
    {
     "data": {
      "text/plain": [
       "<sklearn.metrics._plot.precision_recall_curve.PrecisionRecallDisplay at 0x1fb35b8e310>"
      ]
     },
     "execution_count": 16,
     "metadata": {},
     "output_type": "execute_result"
    },
    {
     "data": {
      "image/png": "[encoded data removed]",
      "text/plain": [
       "<Figure size 432x288 with 1 Axes>"
      ]
     },
     "metadata": {
      "needs_background": "light"
     },
     "output_type": "display_data"
    }
   ],
   "source": [
    "pipeline.fit(X_train,y_train.request)\n",
    "y_pred=pipeline.predict(X_test)\n",
    "print(classification_report(y_test.request, y_pred, target_names=['not request', 'request']))\n",
    "plot_precision_recall_curve(pipeline, X_test, y_test.request)"
   ]
  },
  {
   "cell_type": "code",
   "execution_count": 17,
   "metadata": {},
   "outputs": [],
   "source": [
    "\n",
    "param_grid = [\n",
    "    {'classifier' : [LogisticRegression()],\n",
    "     'classifier__penalty' : ['l1', 'l2'],\n",
    "    'classifier__C' : np.logspace(-4, 4, 9),\n",
    "    'classifier__solver' : ['liblinear']},\n",
    "    {'classifier' : [RandomForestClassifier()],\n",
    "    'classifier__n_estimators' : list(range(10,101,20)),\n",
    "    'classifier__max_features' : list(range(6,32,5))}\n",
    "]"
   ]
  },
  {
   "cell_type": "code",
   "execution_count": 18,
   "metadata": {},
   "outputs": [],
   "source": [
    "grid = GridSearchCV(pipeline, param_grid = param_grid, cv = 3, verbose=True, n_jobs=-1)"
   ]
  },
  {
   "cell_type": "code",
   "execution_count": 19,
   "metadata": {},
   "outputs": [
    {
     "name": "stdout",
     "output_type": "stream",
     "text": [
      "Fitting 3 folds for each of 48 candidates, totalling 144 fits\n"
     ]
    },
    {
     "name": "stderr",
     "output_type": "stream",
     "text": [
      "[Parallel(n_jobs=-1)]: Using backend LokyBackend with 12 concurrent workers.\n",
      "[Parallel(n_jobs=-1)]: Done  26 tasks      | elapsed:   23.5s\n",
      "[Parallel(n_jobs=-1)]: Done 144 out of 144 | elapsed:  2.0min finished\n"
     ]
    }
   ],
   "source": [
    "grid.fit(X_train,y_train.request);"
   ]
  },
  {
   "cell_type": "code",
   "execution_count": 20,
   "metadata": {},
   "outputs": [
    {
     "name": "stdout",
     "output_type": "stream",
     "text": [
      "              precision    recall  f1-score   support\n",
      "\n",
      " not request       0.91      0.95      0.93      3916\n",
      "     request       0.78      0.66      0.71      1101\n",
      "\n",
      "    accuracy                           0.88      5017\n",
      "   macro avg       0.85      0.80      0.82      5017\n",
      "weighted avg       0.88      0.88      0.88      5017\n",
      "\n"
     ]
    },
    {
     "data": {
      "text/plain": [
       "<sklearn.metrics._plot.precision_recall_curve.PrecisionRecallDisplay at 0x1fb35b8e580>"
      ]
     },
     "execution_count": 20,
     "metadata": {},
     "output_type": "execute_result"
    },
    {
     "data": {
      "image/png": "[encoded data removed]",
      "text/plain": [
       "<Figure size 432x288 with 1 Axes>"
      ]
     },
     "metadata": {
      "needs_background": "light"
     },
     "output_type": "display_data"
    }
   ],
   "source": [
    "y_pred=grid.predict(X_test)\n",
    "print(classification_report(y_test.request, y_pred, target_names=['not request', 'request']))\n",
    "plot_precision_recall_curve(grid, X_test, y_test.request)"
   ]
  },
  {
   "cell_type": "code",
   "execution_count": 36,
   "metadata": {},
   "outputs": [],
   "source": [
    "pipeline = Pipeline([\n",
    "        ('features',FeatureUnion([\n",
    "            ('text_pipeline', Pipeline([\n",
    "                ('keep_message', FunctionTransformer(lambda X: X.message)),\n",
    "                ('vect', CountVectorizer(tokenizer=tokenize)),\n",
    "                ('tfidf', TfidfTransformer())\n",
    "            ])),\n",
    "            ('keep_others', FunctionTransformer(lambda X: X[['genre_social', 'genre_news']]))\n",
    "        ])),\n",
    "        ('classifier', MultiOutputClassifier(LogisticRegression(random_state=42, n_jobs=-1), n_jobs=-1))\n",
    "    ])"
   ]
  },
  {
   "cell_type": "code",
   "execution_count": 37,
   "metadata": {},
   "outputs": [],
   "source": [
    "Features= FeatureUnion([\n",
    "            ('text_pipeline', Pipeline([\n",
    "                ('keep_message', FunctionTransformer(lambda X: X.message)),\n",
    "                ('vect', CountVectorizer(tokenizer=tokenize)),\n",
    "                ('tfidf', TfidfTransformer())\n",
    "            ])),\n",
    "            ('keep_others', FunctionTransformer(lambda X: X[['genre_social', 'genre_news']]))\n",
    "        ])\n",
    "clf = MultiOutputClassifier(LogisticRegression(random_state=42, n_jobs=-1), n_jobs=-1)\n",
    "pipeline=Pipeline([('features', Features), ('classifier', clf)])"
   ]
  },
  {
   "cell_type": "code",
   "execution_count": 35,
   "metadata": {},
   "outputs": [],
   "source": [
    "X_train, X_test, y_train, y_test = train_test_split(X, y.drop(['child_alone'], axis=1))"
   ]
  },
  {
   "cell_type": "code",
   "execution_count": 24,
   "metadata": {
    "collapsed": true
   },
   "outputs": [
    {
     "data": {
      "text/plain": [
       "FeatureUnion(transformer_list=[('text_pipeline',\n",
       "                                Pipeline(steps=[('keep_message',\n",
       "                                                 FunctionTransformer(func=<function <lambda> at 0x000001FB367560D0>)),\n",
       "                                                ('vect',\n",
       "                                                 CountVectorizer(tokenizer=<function tokenize at 0x000001FB2EFAA940>)),\n",
       "                                                ('tfidf',\n",
       "                                                 TfidfTransformer())])),\n",
       "                               ('keep_others',\n",
       "                                FunctionTransformer(func=<function <lambda> at 0x000001FB367568B0>))])"
      ]
     },
     "execution_count": 24,
     "metadata": {},
     "output_type": "execute_result"
    }
   ],
   "source": [
    "Features.fit(X_train)"
   ]
  },
  {
   "cell_type": "code",
   "execution_count": 25,
   "metadata": {},
   "outputs": [],
   "source": [
    "def upsample(df,rows, n):\n",
    "    to_sample=df.loc[rows]\n",
    "    unsampled=df.drop(rows)\n",
    "    samples=to_sample.sample(n=n, replace=True, random_state=42)\n",
    "    return pd.concat([unsampled,samples])"
   ]
  },
  {
   "cell_type": "code",
   "execution_count": 26,
   "metadata": {},
   "outputs": [
    {
     "name": "stdout",
     "output_type": "stream",
     "text": [
      "                        precision    recall  f1-score   support\n",
      "\n",
      "               request       0.76      0.64      0.70      1117\n",
      "                 offer       0.00      0.00      0.00        29\n",
      "           aid_related       0.75      0.76      0.76      2727\n",
      "          medical_help       0.68      0.18      0.29       521\n",
      "      medical_products       0.80      0.18      0.29       346\n",
      "     search_and_rescue       0.77      0.06      0.11       169\n",
      "              security       0.25      0.03      0.05       113\n",
      "              military       0.72      0.06      0.11       219\n",
      "                 water       0.82      0.48      0.60       452\n",
      "                  food       0.84      0.61      0.71       763\n",
      "               shelter       0.81      0.38      0.51       574\n",
      "              clothing       0.80      0.18      0.30       109\n",
      "                 money       0.00      0.00      0.00       158\n",
      "        missing_people       0.00      0.00      0.00        64\n",
      "              refugees       0.67      0.06      0.10       180\n",
      "                 death       0.83      0.24      0.38       295\n",
      "             other_aid       0.55      0.12      0.20       829\n",
      "infrastructure_related       0.46      0.01      0.03       435\n",
      "             transport       0.78      0.11      0.19       290\n",
      "             buildings       0.75      0.21      0.33       306\n",
      "           electricity       0.00      0.00      0.00       140\n",
      "                 tools       0.00      0.00      0.00        39\n",
      "             hospitals       0.00      0.00      0.00        75\n",
      "                 shops       0.00      0.00      0.00        36\n",
      "           aid_centers       0.00      0.00      0.00        82\n",
      "  other_infrastructure       0.43      0.01      0.02       281\n",
      "       weather_related       0.86      0.67      0.75      1782\n",
      "                floods       0.92      0.44      0.59       526\n",
      "                 storm       0.81      0.48      0.60       607\n",
      "                  fire       0.00      0.00      0.00        78\n",
      "            earthquake       0.90      0.61      0.73       588\n",
      "                  cold       0.93      0.09      0.16       148\n",
      "         other_weather       0.64      0.05      0.10       335\n",
      "         direct_report       0.69      0.55      0.61      1282\n",
      "\n",
      "             micro avg       0.78      0.44      0.57     15695\n",
      "             macro avg       0.54      0.21      0.27     15695\n",
      "          weighted avg       0.72      0.44      0.51     15695\n",
      "           samples avg       0.57      0.36      0.41     15695\n",
      "\n"
     ]
    }
   ],
   "source": [
    "n=1000\n",
    "\n",
    "df_res=pd.concat([X_train,y_train], axis=1)\n",
    "for col in y_train.columns:\n",
    "    yes_col=df_res[col]==1\n",
    "    count=yes_col.sum()\n",
    "    if count < n:\n",
    "        rows=df_res[yes_col].index\n",
    "        df_res=upsample(df_res, rows, n)\n",
    "        \n",
    "        \n",
    "X_res=df_res[X_train.columns]\n",
    "y_res=df_res[y_train.columns]\n",
    "clf.fit(Features.transform(X_res),y_res)\n",
    "y_pred=pipeline.predict(X_test)\n",
    "print(classification_report(y_test, y_pred, target_names=y_test.columns, zero_division=0))"
   ]
  },
  {
   "cell_type": "code",
   "execution_count": 27,
   "metadata": {
    "collapsed": true
   },
   "outputs": [
    {
     "name": "stdout",
     "output_type": "stream",
     "text": [
      "                        precision    recall  f1-score   support\n",
      "\n",
      "               request       0.76      0.64      0.70      1117\n",
      "                 offer       0.00      0.00      0.00        29\n",
      "           aid_related       0.75      0.76      0.76      2727\n",
      "          medical_help       0.68      0.18      0.29       521\n",
      "      medical_products       0.80      0.18      0.29       346\n",
      "     search_and_rescue       0.77      0.06      0.11       169\n",
      "              security       0.25      0.03      0.05       113\n",
      "              military       0.72      0.06      0.11       219\n",
      "                 water       0.82      0.48      0.60       452\n",
      "                  food       0.84      0.61      0.71       763\n",
      "               shelter       0.81      0.38      0.51       574\n",
      "              clothing       0.80      0.18      0.30       109\n",
      "                 money       0.00      0.00      0.00       158\n",
      "        missing_people       0.00      0.00      0.00        64\n",
      "              refugees       0.67      0.06      0.10       180\n",
      "                 death       0.83      0.24      0.38       295\n",
      "             other_aid       0.55      0.12      0.20       829\n",
      "infrastructure_related       0.46      0.01      0.03       435\n",
      "             transport       0.78      0.11      0.19       290\n",
      "             buildings       0.75      0.21      0.33       306\n",
      "           electricity       0.00      0.00      0.00       140\n",
      "                 tools       0.00      0.00      0.00        39\n",
      "             hospitals       0.00      0.00      0.00        75\n",
      "                 shops       0.00      0.00      0.00        36\n",
      "           aid_centers       0.00      0.00      0.00        82\n",
      "  other_infrastructure       0.43      0.01      0.02       281\n",
      "       weather_related       0.86      0.67      0.75      1782\n",
      "                floods       0.92      0.44      0.59       526\n",
      "                 storm       0.81      0.48      0.60       607\n",
      "                  fire       0.00      0.00      0.00        78\n",
      "            earthquake       0.90      0.61      0.73       588\n",
      "                  cold       0.93      0.09      0.16       148\n",
      "         other_weather       0.64      0.05      0.10       335\n",
      "         direct_report       0.69      0.55      0.61      1282\n",
      "\n",
      "             micro avg       0.78      0.44      0.57     15695\n",
      "             macro avg       0.54      0.21      0.27     15695\n",
      "          weighted avg       0.72      0.44      0.51     15695\n",
      "           samples avg       0.57      0.36      0.41     15695\n",
      "\n"
     ]
    }
   ],
   "source": [
    "print(classification_report(y_test, y_pred, target_names=y_test.columns, zero_division=0))"
   ]
  },
  {
   "cell_type": "code",
   "execution_count": 28,
   "metadata": {
    "collapsed": true
   },
   "outputs": [
    {
     "name": "stdout",
     "output_type": "stream",
     "text": [
      "                        precision    recall  f1-score   support\n",
      "\n",
      "               request       0.66      0.76      0.70      1117\n",
      "                 offer       0.05      0.28      0.09        29\n",
      "           aid_related       0.63      0.93      0.75      2727\n",
      "          medical_help       0.55      0.50      0.53       521\n",
      "      medical_products       0.51      0.45      0.48       346\n",
      "     search_and_rescue       0.53      0.21      0.30       169\n",
      "              security       0.12      0.05      0.07       113\n",
      "              military       0.51      0.62      0.56       219\n",
      "                 water       0.62      0.85      0.71       452\n",
      "                  food       0.74      0.84      0.79       763\n",
      "               shelter       0.54      0.80      0.64       574\n",
      "              clothing       0.62      0.50      0.56       109\n",
      "                 money       0.65      0.13      0.21       158\n",
      "        missing_people       0.25      0.03      0.06        64\n",
      "              refugees       0.36      0.44      0.39       180\n",
      "                 death       0.43      0.72      0.54       295\n",
      "             other_aid       0.37      0.52      0.43       829\n",
      "infrastructure_related       0.28      0.16      0.20       435\n",
      "             transport       0.52      0.30      0.38       290\n",
      "             buildings       0.39      0.63      0.48       306\n",
      "           electricity       0.00      0.00      0.00       140\n",
      "                 tools       0.00      0.00      0.00        39\n",
      "             hospitals       0.00      0.00      0.00        75\n",
      "                 shops       0.00      0.00      0.00        36\n",
      "           aid_centers       0.00      0.00      0.00        82\n",
      "  other_infrastructure       0.21      0.36      0.27       281\n",
      "       weather_related       0.74      0.83      0.78      1782\n",
      "                floods       0.71      0.64      0.67       526\n",
      "                 storm       0.59      0.88      0.71       607\n",
      "                  fire       0.00      0.00      0.00        78\n",
      "            earthquake       0.80      0.84      0.82       588\n",
      "                  cold       0.65      0.49      0.56       148\n",
      "         other_weather       0.24      0.54      0.33       335\n",
      "         direct_report       0.56      0.72      0.63      1282\n",
      "\n",
      "             micro avg       0.57      0.68      0.62     15695\n",
      "             macro avg       0.41      0.44      0.40     15695\n",
      "          weighted avg       0.56      0.68      0.61     15695\n",
      "           samples avg       0.52      0.54      0.50     15695\n",
      "\n"
     ]
    }
   ],
   "source": [
    "y_prob=pipeline.predict_proba(X_test)\n",
    "probs=pd.DataFrame([t[:,1] for t in y_prob], index=y_test.columns).transpose()\n",
    "out=probs.copy()\n",
    "for col in y_train.columns:\n",
    "    thresh=max(min(0.3,y_res[col].mean()), 0.1)\n",
    "    out[col]=out[col] > thresh\n",
    "y_pred_2=np.array(out)\n",
    "print(classification_report(y_test, y_pred_2, target_names=y_test.columns, zero_division=0))"
   ]
  },
  {
   "cell_type": "code",
   "execution_count": 29,
   "metadata": {},
   "outputs": [
    {
     "name": "stdout",
     "output_type": "stream",
     "text": [
      "                        precision    recall  f1-score   support\n",
      "\n",
      "               request       0.66      0.76      0.70      1117\n",
      "                 offer       0.05      0.28      0.09        29\n",
      "           aid_related       0.63      0.93      0.75      2727\n",
      "          medical_help       0.55      0.50      0.53       521\n",
      "      medical_products       0.51      0.45      0.48       346\n",
      "     search_and_rescue       0.53      0.21      0.30       169\n",
      "              security       0.12      0.05      0.07       113\n",
      "              military       0.51      0.62      0.56       219\n",
      "                 water       0.62      0.85      0.71       452\n",
      "                  food       0.74      0.84      0.79       763\n",
      "               shelter       0.54      0.80      0.64       574\n",
      "              clothing       0.62      0.50      0.56       109\n",
      "                 money       0.65      0.13      0.21       158\n",
      "        missing_people       0.25      0.03      0.06        64\n",
      "              refugees       0.36      0.44      0.39       180\n",
      "                 death       0.43      0.72      0.54       295\n",
      "             other_aid       0.37      0.52      0.43       829\n",
      "infrastructure_related       0.28      0.16      0.20       435\n",
      "             transport       0.52      0.30      0.38       290\n",
      "             buildings       0.39      0.63      0.48       306\n",
      "           electricity       0.00      0.00      0.00       140\n",
      "                 tools       0.00      0.00      0.00        39\n",
      "             hospitals       0.00      0.00      0.00        75\n",
      "                 shops       0.00      0.00      0.00        36\n",
      "           aid_centers       0.00      0.00      0.00        82\n",
      "  other_infrastructure       0.21      0.36      0.27       281\n",
      "       weather_related       0.74      0.83      0.78      1782\n",
      "                floods       0.71      0.64      0.67       526\n",
      "                 storm       0.59      0.88      0.71       607\n",
      "                  fire       0.00      0.00      0.00        78\n",
      "            earthquake       0.80      0.84      0.82       588\n",
      "                  cold       0.65      0.49      0.56       148\n",
      "         other_weather       0.24      0.54      0.33       335\n",
      "         direct_report       0.56      0.72      0.63      1282\n",
      "\n",
      "             micro avg       0.57      0.68      0.62     15695\n",
      "             macro avg       0.41      0.44      0.40     15695\n",
      "          weighted avg       0.56      0.68      0.61     15695\n",
      "           samples avg       0.52      0.54      0.50     15695\n",
      "\n"
     ]
    }
   ],
   "source": [
    "print(classification_report(y_test, y_pred_2, target_names=y_test.columns, zero_division=0))"
   ]
  },
  {
   "cell_type": "code",
   "execution_count": 41,
   "metadata": {},
   "outputs": [],
   "source": [
    "import imblearn"
   ]
  },
  {
   "cell_type": "code",
   "execution_count": 42,
   "metadata": {},
   "outputs": [
    {
     "ename": "NameError",
     "evalue": "name 'SMOTE' is not defined",
     "output_type": "error",
     "traceback": [
      "\u001b[1;31m---------------------------------------------------------------------------\u001b[0m",
      "\u001b[1;31mNameError\u001b[0m                                 Traceback (most recent call last)",
      "\u001b[1;32m<ipython-input-42-9da5d08f9871>\u001b[0m in \u001b[0;36m<module>\u001b[1;34m\u001b[0m\n\u001b[1;32m----> 1\u001b[1;33m \u001b[0mSMOTE\u001b[0m\u001b[1;33m(\u001b[0m\u001b[1;33m)\u001b[0m\u001b[1;33m\u001b[0m\u001b[1;33m\u001b[0m\u001b[0m\n\u001b[0m",
      "\u001b[1;31mNameError\u001b[0m: name 'SMOTE' is not defined"
     ]
    }
   ],
   "source": [
    "SMOTE()"
   ]
  },
  {
   "cell_type": "code",
   "execution_count": 43,
   "metadata": {},
   "outputs": [
    {
     "name": "stdout",
     "output_type": "stream",
     "text": [
      "0.7.0\n"
     ]
    }
   ],
   "source": [
    "print(imblearn.__version__)"
   ]
  },
  {
   "cell_type": "code",
   "execution_count": 105,
   "metadata": {},
   "outputs": [],
   "source": [
    "from imblearn.over_sampling import SMOTE, ADASYN\n",
    "from imblearn.pipeline import Pipeline as ImbalancedPipeline"
   ]
  },
  {
   "cell_type": "code",
   "execution_count": 156,
   "metadata": {},
   "outputs": [],
   "source": [
    "pipeline = ImbalancedPipeline([\n",
    "        ('features',FeatureUnion([\n",
    "            ('text_pipeline', Pipeline([\n",
    "                ('keep_message', FunctionTransformer(lambda X: X.message)),\n",
    "                ('vect', CountVectorizer(tokenizer=tokenize)),\n",
    "                ('tfidf', TfidfTransformer())\n",
    "            ])),\n",
    "            ('keep_others', FunctionTransformer(lambda X: X[['genre_social', 'genre_news']]))\n",
    "        ])),\n",
    "        ('resample', SMOTE(random_state=42)),\n",
    "        ('classifier',LogisticRegression(random_state=42, n_jobs=-1))\n",
    "    ])"
   ]
  },
  {
   "cell_type": "code",
   "execution_count": 157,
   "metadata": {},
   "outputs": [],
   "source": [
    "X_train, X_test, y_train, y_test = train_test_split(X, y['request'])"
   ]
  },
  {
   "cell_type": "code",
   "execution_count": 158,
   "metadata": {},
   "outputs": [
    {
     "name": "stdout",
     "output_type": "stream",
     "text": [
      "              precision    recall  f1-score   support\n",
      "\n",
      "          no       0.93      0.90      0.91      3928\n",
      "         yes       0.67      0.76      0.71      1089\n",
      "\n",
      "    accuracy                           0.87      5017\n",
      "   macro avg       0.80      0.83      0.81      5017\n",
      "weighted avg       0.87      0.87      0.87      5017\n",
      "\n"
     ]
    }
   ],
   "source": [
    "pipeline.fit(X_train,y_train)\n",
    "y_pred=pipeline.predict(X_test)\n",
    "print(classification_report(y_test, y_pred, target_names=['no', 'yes'], zero_division=0))"
   ]
  },
  {
   "cell_type": "code",
   "execution_count": 58,
   "metadata": {},
   "outputs": [],
   "source": [
    "param_grid = [\n",
    "    {'resample' : [SMOTE(random_state=42), ADASYN(random_state=42)]}\n",
    "]"
   ]
  },
  {
   "cell_type": "code",
   "execution_count": 65,
   "metadata": {},
   "outputs": [
    {
     "name": "stdout",
     "output_type": "stream",
     "text": [
      "Fitting 3 folds for each of 2 candidates, totalling 6 fits\n"
     ]
    },
    {
     "name": "stderr",
     "output_type": "stream",
     "text": [
      "[Parallel(n_jobs=-1)]: Using backend LokyBackend with 12 concurrent workers.\n",
      "[Parallel(n_jobs=-1)]: Done   4 out of   6 | elapsed:    5.6s remaining:    2.7s\n",
      "[Parallel(n_jobs=-1)]: Done   6 out of   6 | elapsed:    7.1s finished\n"
     ]
    },
    {
     "name": "stdout",
     "output_type": "stream",
     "text": [
      "              precision    recall  f1-score   support\n",
      "\n",
      " not request       0.93      0.88      0.91      3878\n",
      "     request       0.66      0.78      0.71      1139\n",
      "\n",
      "    accuracy                           0.86      5017\n",
      "   macro avg       0.80      0.83      0.81      5017\n",
      "weighted avg       0.87      0.86      0.86      5017\n",
      "\n"
     ]
    },
    {
     "data": {
      "text/plain": [
       "<sklearn.metrics._plot.precision_recall_curve.PrecisionRecallDisplay at 0x1fb36a0e610>"
      ]
     },
     "execution_count": 65,
     "metadata": {},
     "output_type": "execute_result"
    },
    {
     "data": {
      "image/png": "[encoded data removed]",
      "text/plain": [
       "<Figure size 432x288 with 1 Axes>"
      ]
     },
     "metadata": {
      "needs_background": "light"
     },
     "output_type": "display_data"
    }
   ],
   "source": [
    "grid = GridSearchCV(pipeline, param_grid = param_grid, cv = 3, verbose=True, n_jobs=-1, scoring='recall')\n",
    "grid.fit(X_train,y_train)\n",
    "y_pred=grid.predict(X_test)\n",
    "print(classification_report(y_test, y_pred, target_names=['not request', 'request']))\n",
    "plot_precision_recall_curve(grid, X_test, y_test)"
   ]
  },
  {
   "cell_type": "code",
   "execution_count": 114,
   "metadata": {},
   "outputs": [],
   "source": [
    "X_train, X_test, y_train, y_test = train_test_split(X, y.drop(['child_alone'], axis=1))"
   ]
  },
  {
   "cell_type": "code",
   "execution_count": 102,
   "metadata": {},
   "outputs": [],
   "source": [
    "from imblearn.base import SamplerMixin\n",
    "from sklearn.base import BaseEstimator, TransformerMixin, ClassifierMixin"
   ]
  },
  {
   "cell_type": "code",
   "execution_count": 110,
   "metadata": {},
   "outputs": [],
   "source": [
    "class OneByOneClassifier(BaseEstimator,ClassifierMixin):   \n",
    "    def __init__(self, classifier, sampler):\n",
    "        self.classifer=classifier\n",
    "        self.sampler=sampler\n",
    "        self.classifiers=None\n",
    "        self.samplers=None\n",
    "        self.columns=None\n",
    "        \n",
    "    def fit(self, X, y):\n",
    "        self.columns=y.columns\n",
    "        self.classifiers={col:clone(self.classifer) for col in self.columns}\n",
    "        self.samplers={col:clone(self.sampler) for col in self.columns}\n",
    "        \n",
    "        for col in self.columns:\n",
    "            y_col=y[col]\n",
    "            classifier=self.classifiers[col]\n",
    "            sampler=self.samplers[col]\n",
    "            X_sample,y_col_sample=sampler.fit_sample(X,y_col)\n",
    "            classifier.fit(X_sample,y_col_sample)\n",
    "    \n",
    "    def sample(self,X,y):\n",
    "        samplers=self.samplers\n",
    "        samples={col: samplers[col].sample(X,y) for col in self.columns}\n",
    "        X_samples={col: samples[col][0] for col in self.columns}\n",
    "        y_samples={col: samples[col][1] for col in self.columns}\n",
    "        return X_samples, y_samples\n",
    "    \n",
    "    def predict(self,X):\n",
    "        classifiers=self.classifiers\n",
    "        predictions={col: classifiers[col].predict(X) for col in self.columns}\n",
    "        return pd.DataFrame(predictions)\n",
    "    \n",
    "    def predict_proba(self,X):\n",
    "        classifiers=self.classifiers\n",
    "        predictions={col: classifiers[col].predict_proba(X)[:,1] for col in self.columns}\n",
    "        return pd.DataFrame(predictions)"
   ]
  },
  {
   "cell_type": "code",
   "execution_count": 111,
   "metadata": {},
   "outputs": [],
   "source": [
    "Features= FeatureUnion([\n",
    "            ('text_pipeline', Pipeline([\n",
    "                ('keep_message', FunctionTransformer(lambda X: X.message)),\n",
    "                ('vect', CountVectorizer(tokenizer=tokenize)),\n",
    "                ('tfidf', TfidfTransformer())\n",
    "            ])),\n",
    "            ('keep_others', FunctionTransformer(lambda X: X[['genre_social', 'genre_news']]))\n",
    "        ])\n",
    "\n",
    "sample_pipeline = ImbalancedPipeline([\n",
    "        ('resample', SMOTE(random_state=42)),\n",
    "        ('classifier',LogisticRegression(random_state=42, n_jobs=-1))\n",
    "    ])\n",
    "\n",
    "pipeline=Pipeline([\n",
    "        ('features', Features),\n",
    "        ('1by1', OneByOneClassifier(LogisticRegression(random_state=42, n_jobs=-1), SMOTE()))\n",
    "    ])"
   ]
  },
  {
   "cell_type": "code",
   "execution_count": 115,
   "metadata": {},
   "outputs": [],
   "source": [
    "pipeline.fit(X_train,y_train[['request', 'offer']])\n",
    "predict_probas=pipeline.predict_proba(X_test);"
   ]
  },
  {
   "cell_type": "code",
   "execution_count": 392,
   "metadata": {},
   "outputs": [
    {
     "data": {
      "text/plain": [
       "{'classifier': None}"
      ]
     },
     "execution_count": 392,
     "metadata": {},
     "output_type": "execute_result"
    }
   ],
   "source": [
    "OneByOneClassifier(sample_pipeline).get_params()"
   ]
  },
  {
   "cell_type": "code",
   "execution_count": 117,
   "metadata": {},
   "outputs": [
    {
     "name": "stdout",
     "output_type": "stream",
     "text": [
      "              precision    recall  f1-score   support\n",
      "\n",
      "     request       0.65      0.80      0.71      1097\n",
      "       offer       0.06      0.29      0.10        31\n",
      "\n",
      "   micro avg       0.58      0.78      0.67      1128\n",
      "   macro avg       0.35      0.54      0.40      1128\n",
      "weighted avg       0.63      0.78      0.70      1128\n",
      " samples avg       0.17      0.18      0.17      1128\n",
      "\n"
     ]
    }
   ],
   "source": [
    "out=pd.DataFrame()\n",
    "for col in predict_probas:\n",
    "    thresh=max(min(0.5,2*y_train[col].mean()), 0.25)\n",
    "    out[col]=predict_probas[col] > thresh\n",
    "y_pred_2=np.array(out)\n",
    "print(classification_report(y_test[predict_probas.columns], y_pred_2, target_names=predict_probas.columns, zero_division=0))"
   ]
  },
  {
   "cell_type": "code",
   "execution_count": 118,
   "metadata": {},
   "outputs": [],
   "source": [
    "pipeline=Pipeline([\n",
    "        ('features', Features),\n",
    "        ('1by1', OneByOneClassifier(LogisticRegression(random_state=42, n_jobs=-1), SMOTE(random_state=42)))\n",
    "    ])\n",
    "pipeline.fit(X_train,y_train)\n",
    "predict_probas=pipeline.predict_proba(X_test);"
   ]
  },
  {
   "cell_type": "code",
   "execution_count": 399,
   "metadata": {},
   "outputs": [
    {
     "name": "stdout",
     "output_type": "stream",
     "text": [
      "                        precision    recall  f1-score   support\n",
      "\n",
      "               request       0.67      0.78      0.72      1180\n",
      "                 offer       0.05      0.30      0.08        27\n",
      "           aid_related       0.78      0.73      0.75      2755\n",
      "          medical_help       0.25      0.79      0.38       529\n",
      "      medical_products       0.23      0.74      0.35       336\n",
      "     search_and_rescue       0.09      0.54      0.16       164\n",
      "              security       0.08      0.44      0.13       132\n",
      "              military       0.29      0.87      0.43       201\n",
      "                 water       0.55      0.87      0.67       435\n",
      "                  food       0.69      0.88      0.77       780\n",
      "               shelter       0.44      0.86      0.58       597\n",
      "              clothing       0.35      0.67      0.46       110\n",
      "                 money       0.27      0.70      0.39       166\n",
      "        missing_people       0.07      0.36      0.11        70\n",
      "              refugees       0.18      0.76      0.29       211\n",
      "                 death       0.32      0.81      0.46       301\n",
      "             other_aid       0.30      0.73      0.42       893\n",
      "infrastructure_related       0.16      0.71      0.26       465\n",
      "             transport       0.13      0.62      0.22       304\n",
      "             buildings       0.30      0.79      0.44       354\n",
      "           electricity       0.28      0.69      0.39       150\n",
      "                 tools       0.11      0.29      0.16        48\n",
      "             hospitals       0.10      0.48      0.17        62\n",
      "                 shops       0.03      0.20      0.06        25\n",
      "           aid_centers       0.10      0.42      0.16        96\n",
      "  other_infrastructure       0.15      0.67      0.25       331\n",
      "       weather_related       0.82      0.79      0.80      1837\n",
      "                floods       0.32      0.80      0.46       540\n",
      "                 storm       0.56      0.91      0.69       635\n",
      "                  fire       0.17      0.51      0.26        65\n",
      "            earthquake       0.69      0.90      0.78       593\n",
      "                  cold       0.31      0.74      0.43       151\n",
      "         other_weather       0.15      0.72      0.25       329\n",
      "         direct_report       0.62      0.73      0.67      1316\n",
      "\n",
      "             micro avg       0.38      0.76      0.50     16188\n",
      "             macro avg       0.31      0.67      0.40     16188\n",
      "          weighted avg       0.52      0.76      0.59     16188\n",
      "           samples avg       0.36      0.58      0.41     16188\n",
      "\n"
     ]
    }
   ],
   "source": [
    "out=pd.DataFrame()\n",
    "for col in predict_probas:\n",
    "    thresh=max(min(0.5,2*y_train[col].mean()), 0.25)\n",
    "    out[col]=predict_probas[col] > thresh\n",
    "y_pred_2=np.array(out)\n",
    "print(classification_report(y_test[predict_probas.columns], y_pred_2, target_names=predict_probas.columns, zero_division=0))"
   ]
  },
  {
   "cell_type": "code",
   "execution_count": 329,
   "metadata": {},
   "outputs": [
    {
     "data": {
      "text/plain": [
       "{'k_neighbors': 5,\n",
       " 'n_jobs': None,\n",
       " 'random_state': None,\n",
       " 'sampling_strategy': 'auto'}"
      ]
     },
     "execution_count": 329,
     "metadata": {},
     "output_type": "execute_result"
    }
   ],
   "source": [
    "SMOTE().get_params()"
   ]
  },
  {
   "cell_type": "code",
   "execution_count": 430,
   "metadata": {},
   "outputs": [
    {
     "data": {
      "text/html": [
       "<div>\n",
       "<style scoped>\n",
       "    .dataframe tbody tr th:only-of-type {\n",
       "        vertical-align: middle;\n",
       "    }\n",
       "\n",
       "    .dataframe tbody tr th {\n",
       "        vertical-align: top;\n",
       "    }\n",
       "\n",
       "    .dataframe thead th {\n",
       "        text-align: right;\n",
       "    }\n",
       "</style>\n",
       "<table border=\"1\" class=\"dataframe\">\n",
       "  <thead>\n",
       "    <tr style=\"text-align: right;\">\n",
       "      <th></th>\n",
       "      <th>0</th>\n",
       "    </tr>\n",
       "  </thead>\n",
       "  <tbody>\n",
       "    <tr>\n",
       "      <th>electricity</th>\n",
       "      <td>1</td>\n",
       "    </tr>\n",
       "    <tr>\n",
       "      <th>weather_related</th>\n",
       "      <td>1</td>\n",
       "    </tr>\n",
       "    <tr>\n",
       "      <th>cold</th>\n",
       "      <td>1</td>\n",
       "    </tr>\n",
       "  </tbody>\n",
       "</table>\n",
       "</div>"
      ],
      "text/plain": [
       "                 0\n",
       "electricity      1\n",
       "weather_related  1\n",
       "cold             1"
      ]
     },
     "execution_count": 430,
     "metadata": {},
     "output_type": "execute_result"
    }
   ],
   "source": [
    "xx=pd.DataFrame([[\"The power is out in Texas, we're freezing\", 1, 0]], columns=X.columns)\n",
    "pred=pipeline.predict(xx)\n",
    "pred.transpose()[(pred !=0).any()]"
   ]
  },
  {
   "cell_type": "code",
   "execution_count": 153,
   "metadata": {},
   "outputs": [],
   "source": [
    "class IfThenClassifier(BaseEstimator, ClassifierMixin):\n",
    "    \"\"\"Class to predict against one binary variable,\n",
    "        then predict again if first prediction==1\"\"\"\n",
    "    def __init__(self, transformer, clf1, clf2):\n",
    "        self.transformer=transformer\n",
    "        self.clf1=clf1\n",
    "        self.clf2=clf2\n",
    "        self.length=1\n",
    "\n",
    "    def fit(self, X, y):\n",
    "        #Ensure indices match\n",
    "        y.index=X.index\n",
    "\n",
    "        #Fit length\n",
    "        self.length=y.shape[1]\n",
    "\n",
    "        #Fit transformer\n",
    "        X_transformed=self.transformer.fit_transform(X)\n",
    "        #Fit clf1\n",
    "        y1=y.iloc[:,0]\n",
    "        self.clf1.fit(X_transformed,y1)\n",
    "\n",
    "        #Fit clf2\n",
    "        y2=(y[y1==1]).iloc[:,1:]\n",
    "        X2=X[y1==1]\n",
    "        self.clf2.fit(self.transformer.transform(X2),y2)\n",
    "\n",
    "    def predict(self,X):\n",
    "        #Make output DataFrame\n",
    "        y=pd.DataFrame(\n",
    "            [[0]*self.length]*X.shape[0],\n",
    "            index=X.index)\n",
    "        #Predict y1\n",
    "        X_transformed=self.transformer.transform(X)\n",
    "        y1_pred=self.clf1.predict(X_transformed)\n",
    "        y.iloc[:,0]=y1_pred\n",
    "        keepers = (y.iloc[:,0]==1)\n",
    "\n",
    "        #If y1 predict y2\n",
    "        X_true_tranformed=self.transformer.transform(X[keepers])\n",
    "        y[keepers]=self.clf2.predict(X_true_tranformed)\n",
    "        return y"
   ]
  },
  {
   "cell_type": "code",
   "execution_count": 154,
   "metadata": {},
   "outputs": [],
   "source": [
    "def model_features():\n",
    "    \"\"\"Fit transformer to extract features on df\"\"\"\n",
    "    features=FeatureUnion([\n",
    "                ('text_pipeline', Pipeline([\n",
    "                    ('keep_message', FunctionTransformer(lambda X: X.message)),\n",
    "                    ('vect', CountVectorizer(tokenizer=tokenize)),\n",
    "                    ('tfidf', TfidfTransformer())\n",
    "                    ])),\n",
    "                ('keep_others', FunctionTransformer(lambda X: X[['genre_social', 'genre_news']]))])\n",
    "    return features\n",
    "\n",
    "def related_model():\n",
    "    \"\"\"SGDC classifier to predict if related\"\"\"\n",
    "    SGDC=SGDClassifier(n_jobs=-1)\n",
    "    return SGDC\n",
    "\n",
    "def cat_model():\n",
    "    \"\"\"LogisticRegression model to predict message categories\"\"\"\n",
    "    #Classifier to resample and predict against each variable separately\n",
    "    clf=OneByOneClassifier(LogisticRegression(n_jobs=-1), SMOTE())\n",
    "    return clf\n",
    "\n",
    "def build_model():\n",
    "    #Build Parts\n",
    "    features=model_features()\n",
    "    SGDC=related_model()\n",
    "    clf=cat_model()\n",
    "\n",
    "    #Build Model\n",
    "    model = IfThenClassifier(features, SGDC, clf)\n",
    "    return model"
   ]
  },
  {
   "cell_type": "code",
   "execution_count": 155,
   "metadata": {},
   "outputs": [],
   "source": [
    "X=df[['message', 'genre_social', 'genre_news']].copy()\n",
    "y=df.drop(['message', 'genre_social', 'genre_news', 'original'], axis=1).astype(int)\n",
    "model=build_model()"
   ]
  },
  {
   "cell_type": "code",
   "execution_count": 156,
   "metadata": {},
   "outputs": [],
   "source": [
    "yy=y.iloc[:,0:3]"
   ]
  },
  {
   "cell_type": "code",
   "execution_count": 157,
   "metadata": {},
   "outputs": [],
   "source": [
    "model.fit(X,yy)"
   ]
  },
  {
   "cell_type": "code",
   "execution_count": 158,
   "metadata": {},
   "outputs": [
    {
     "ename": "AttributeError",
     "evalue": "'IfThenClassifier' object has no attribute 'cl2'",
     "output_type": "error",
     "traceback": [
      "\u001b[1;31m---------------------------------------------------------------------------\u001b[0m",
      "\u001b[1;31mAttributeError\u001b[0m                            Traceback (most recent call last)",
      "\u001b[1;32m<ipython-input-158-43a58eb494e8>\u001b[0m in \u001b[0;36m<module>\u001b[1;34m\u001b[0m\n\u001b[1;32m----> 1\u001b[1;33m \u001b[0mmodel\u001b[0m\u001b[1;33m.\u001b[0m\u001b[0mpredict\u001b[0m\u001b[1;33m(\u001b[0m\u001b[0mX\u001b[0m\u001b[1;33m)\u001b[0m\u001b[1;33m\u001b[0m\u001b[1;33m\u001b[0m\u001b[0m\n\u001b[0m",
      "\u001b[1;32m<ipython-input-153-305748fc863a>\u001b[0m in \u001b[0;36mpredict\u001b[1;34m(self, X)\u001b[0m\n\u001b[0;32m     39\u001b[0m         \u001b[1;31m#If y1 predict y2\u001b[0m\u001b[1;33m\u001b[0m\u001b[1;33m\u001b[0m\u001b[1;33m\u001b[0m\u001b[0m\n\u001b[0;32m     40\u001b[0m         \u001b[0mX_true_tranformed\u001b[0m\u001b[1;33m=\u001b[0m\u001b[0mself\u001b[0m\u001b[1;33m.\u001b[0m\u001b[0mtransformer\u001b[0m\u001b[1;33m.\u001b[0m\u001b[0mtransform\u001b[0m\u001b[1;33m(\u001b[0m\u001b[0mX\u001b[0m\u001b[1;33m[\u001b[0m\u001b[0mkeepers\u001b[0m\u001b[1;33m]\u001b[0m\u001b[1;33m)\u001b[0m\u001b[1;33m\u001b[0m\u001b[1;33m\u001b[0m\u001b[0m\n\u001b[1;32m---> 41\u001b[1;33m         \u001b[0my\u001b[0m\u001b[1;33m[\u001b[0m\u001b[0mkeepers\u001b[0m\u001b[1;33m]\u001b[0m\u001b[1;33m=\u001b[0m\u001b[0mself\u001b[0m\u001b[1;33m.\u001b[0m\u001b[0mcl2\u001b[0m\u001b[1;33m.\u001b[0m\u001b[0mpredict\u001b[0m\u001b[1;33m(\u001b[0m\u001b[0mX_true_tranformed\u001b[0m\u001b[1;33m)\u001b[0m\u001b[1;33m\u001b[0m\u001b[1;33m\u001b[0m\u001b[0m\n\u001b[0m\u001b[0;32m     42\u001b[0m         \u001b[1;32mreturn\u001b[0m \u001b[0my\u001b[0m\u001b[1;33m\u001b[0m\u001b[1;33m\u001b[0m\u001b[0m\n",
      "\u001b[1;31mAttributeError\u001b[0m: 'IfThenClassifier' object has no attribute 'cl2'"
     ]
    }
   ],
   "source": [
    "model.predict(X)"
   ]
  },
  {
   "cell_type": "code",
   "execution_count": null,
   "metadata": {},
   "outputs": [],
   "source": []
  },
  {
   "cell_type": "code",
   "execution_count": null,
   "metadata": {},
   "outputs": [],
   "source": []
  }
 ],
 "metadata": {
  "kernelspec": {
   "display_name": "Python 3",
   "language": "python",
   "name": "python3"
  },
  "language_info": {
   "codemirror_mode": {
    "name": "ipython",
    "version": 3
   },
   "file_extension": ".py",
   "mimetype": "text/x-python",
   "name": "python",
   "nbconvert_exporter": "python",
   "pygments_lexer": "ipython3",
   "version": "3.8.5"
  }
 },
 "nbformat": 4,
 "nbformat_minor": 4
}
